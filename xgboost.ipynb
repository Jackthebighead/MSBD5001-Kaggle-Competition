{
 "cells": [
  {
   "cell_type": "markdown",
   "metadata": {},
   "source": [
    "# Modeling\n",
    "\n",
    "`Author: YUAN Yanzhe`\n",
    "\n",
    "- In this notebook, XGBoost is chosen as the regressor to model the data and gridsearch is used as the fine-tuning method.\n",
    "    - Usually we use the following methods for time series prediction\n",
    "        - DL model like LSTM\n",
    "        - statistical model like ARMA/ARIMA\n",
    "        - traditional ML model like linear model, XGBoost, etc.\n",
    "    - After looking at the data, there is no obvious time-serial trend for the traiffic speed, so I think statistical model like ARMA that is based on the idea of moving average may not perform well on this task.\n",
    "    - What's more, there are lots of feautres that can be mined and extracted from 'date' and additional weather resources and they may influence the traffic speed. So the task can be converted to a feature engineering driven task, i.e. the more useful and related features we get, the more the regressor may predict.\n",
    "    - And it turns out XGBoost is way better than these models (from other competitors' results). \n",
    "    - So this is why XGB is chosen as the model for this task.\n",
    "\n",
    "- The codes are originally run in Google Colab\n",
    "\n",
    "- The best result is in `xgboost_submit_final.csv`\n",
    "\n",
    "- improvement: forecastxgb?\n",
    "\n",
    "- Due to the upload limit, other experiments done with features dummied are done in the account:Jackbighead. However, results come from this ipynb (team_name: youngandcold) is relatively better, so i use this one as the final .ipynb file."
   ]
  },
  {
   "cell_type": "markdown",
   "metadata": {},
   "source": [
    "## Load Data"
   ]
  },
  {
   "cell_type": "code",
   "execution_count": 29,
   "metadata": {
    "executionInfo": {
     "elapsed": 1048,
     "status": "ok",
     "timestamp": 1607146700365,
     "user": {
      "displayName": "Xuxuxu Shh",
      "photoUrl": "",
      "userId": "06260925340065532759"
     },
     "user_tz": -480
    },
    "id": "GpguAwMHfblk"
   },
   "outputs": [],
   "source": [
    "import numpy as np\n",
    "import matplotlib.pyplot as plt\n",
    "import matplotlib as mpl\n",
    "from sklearn import neighbors\n",
    "from sklearn.utils import shuffle\n",
    "from sklearn.linear_model import LinearRegression\n",
    "from sklearn.model_selection import train_test_split, cross_val_predict\n",
    "from sklearn.model_selection import cross_val_score, GridSearchCV\n",
    "import xgboost as xgb\n",
    "from xgboost import XGBRegressor\n",
    "\n",
    "from sklearn import datasets\n",
    "from sklearn import metrics\n",
    "import pandas as pd"
   ]
  },
  {
   "cell_type": "code",
   "execution_count": 30,
   "metadata": {
    "colab": {
     "base_uri": "https://localhost:8080/",
     "height": 437
    },
    "executionInfo": {
     "elapsed": 1168,
     "status": "ok",
     "timestamp": 1607146702379,
     "user": {
      "displayName": "Xuxuxu Shh",
      "photoUrl": "",
      "userId": "06260925340065532759"
     },
     "user_tz": -480
    },
    "id": "By0iBpPsgB37",
    "outputId": "b5d6a752-67e7-48cd-badc-622bc795526b"
   },
   "outputs": [
    {
     "data": {
      "text/html": [
       "<div>\n",
       "<style scoped>\n",
       "    .dataframe tbody tr th:only-of-type {\n",
       "        vertical-align: middle;\n",
       "    }\n",
       "\n",
       "    .dataframe tbody tr th {\n",
       "        vertical-align: top;\n",
       "    }\n",
       "\n",
       "    .dataframe thead th {\n",
       "        text-align: right;\n",
       "    }\n",
       "</style>\n",
       "<table border=\"1\" class=\"dataframe\">\n",
       "  <thead>\n",
       "    <tr style=\"text-align: right;\">\n",
       "      <th></th>\n",
       "      <th>id</th>\n",
       "      <th>hour</th>\n",
       "      <th>month</th>\n",
       "      <th>day</th>\n",
       "      <th>year</th>\n",
       "      <th>weekday</th>\n",
       "      <th>holiday</th>\n",
       "      <th>speed</th>\n",
       "      <th>tempC</th>\n",
       "      <th>visibility</th>\n",
       "      <th>winddirDegree</th>\n",
       "      <th>windspeedKmph</th>\n",
       "      <th>humidity</th>\n",
       "      <th>cloudcover</th>\n",
       "      <th>WindChillC</th>\n",
       "    </tr>\n",
       "  </thead>\n",
       "  <tbody>\n",
       "    <tr>\n",
       "      <th>0</th>\n",
       "      <td>0</td>\n",
       "      <td>2</td>\n",
       "      <td>1</td>\n",
       "      <td>1</td>\n",
       "      <td>2018</td>\n",
       "      <td>0</td>\n",
       "      <td>1</td>\n",
       "      <td>0</td>\n",
       "      <td>19</td>\n",
       "      <td>10</td>\n",
       "      <td>65</td>\n",
       "      <td>12</td>\n",
       "      <td>63</td>\n",
       "      <td>23</td>\n",
       "      <td>18</td>\n",
       "    </tr>\n",
       "    <tr>\n",
       "      <th>1</th>\n",
       "      <td>1</td>\n",
       "      <td>5</td>\n",
       "      <td>1</td>\n",
       "      <td>1</td>\n",
       "      <td>2018</td>\n",
       "      <td>0</td>\n",
       "      <td>1</td>\n",
       "      <td>0</td>\n",
       "      <td>19</td>\n",
       "      <td>10</td>\n",
       "      <td>65</td>\n",
       "      <td>12</td>\n",
       "      <td>63</td>\n",
       "      <td>23</td>\n",
       "      <td>18</td>\n",
       "    </tr>\n",
       "    <tr>\n",
       "      <th>2</th>\n",
       "      <td>2</td>\n",
       "      <td>7</td>\n",
       "      <td>1</td>\n",
       "      <td>1</td>\n",
       "      <td>2018</td>\n",
       "      <td>0</td>\n",
       "      <td>1</td>\n",
       "      <td>0</td>\n",
       "      <td>19</td>\n",
       "      <td>10</td>\n",
       "      <td>65</td>\n",
       "      <td>12</td>\n",
       "      <td>63</td>\n",
       "      <td>23</td>\n",
       "      <td>18</td>\n",
       "    </tr>\n",
       "    <tr>\n",
       "      <th>3</th>\n",
       "      <td>3</td>\n",
       "      <td>8</td>\n",
       "      <td>1</td>\n",
       "      <td>1</td>\n",
       "      <td>2018</td>\n",
       "      <td>0</td>\n",
       "      <td>1</td>\n",
       "      <td>0</td>\n",
       "      <td>19</td>\n",
       "      <td>10</td>\n",
       "      <td>65</td>\n",
       "      <td>12</td>\n",
       "      <td>63</td>\n",
       "      <td>23</td>\n",
       "      <td>18</td>\n",
       "    </tr>\n",
       "    <tr>\n",
       "      <th>4</th>\n",
       "      <td>4</td>\n",
       "      <td>10</td>\n",
       "      <td>1</td>\n",
       "      <td>1</td>\n",
       "      <td>2018</td>\n",
       "      <td>0</td>\n",
       "      <td>1</td>\n",
       "      <td>0</td>\n",
       "      <td>19</td>\n",
       "      <td>10</td>\n",
       "      <td>65</td>\n",
       "      <td>12</td>\n",
       "      <td>63</td>\n",
       "      <td>23</td>\n",
       "      <td>18</td>\n",
       "    </tr>\n",
       "    <tr>\n",
       "      <th>...</th>\n",
       "      <td>...</td>\n",
       "      <td>...</td>\n",
       "      <td>...</td>\n",
       "      <td>...</td>\n",
       "      <td>...</td>\n",
       "      <td>...</td>\n",
       "      <td>...</td>\n",
       "      <td>...</td>\n",
       "      <td>...</td>\n",
       "      <td>...</td>\n",
       "      <td>...</td>\n",
       "      <td>...</td>\n",
       "      <td>...</td>\n",
       "      <td>...</td>\n",
       "      <td>...</td>\n",
       "    </tr>\n",
       "    <tr>\n",
       "      <th>3499</th>\n",
       "      <td>3499</td>\n",
       "      <td>17</td>\n",
       "      <td>12</td>\n",
       "      <td>31</td>\n",
       "      <td>2018</td>\n",
       "      <td>0</td>\n",
       "      <td>0</td>\n",
       "      <td>0</td>\n",
       "      <td>12</td>\n",
       "      <td>10</td>\n",
       "      <td>138</td>\n",
       "      <td>18</td>\n",
       "      <td>69</td>\n",
       "      <td>79</td>\n",
       "      <td>10</td>\n",
       "    </tr>\n",
       "    <tr>\n",
       "      <th>3500</th>\n",
       "      <td>3500</td>\n",
       "      <td>19</td>\n",
       "      <td>12</td>\n",
       "      <td>31</td>\n",
       "      <td>2018</td>\n",
       "      <td>0</td>\n",
       "      <td>0</td>\n",
       "      <td>0</td>\n",
       "      <td>12</td>\n",
       "      <td>10</td>\n",
       "      <td>138</td>\n",
       "      <td>18</td>\n",
       "      <td>69</td>\n",
       "      <td>79</td>\n",
       "      <td>10</td>\n",
       "    </tr>\n",
       "    <tr>\n",
       "      <th>3501</th>\n",
       "      <td>3501</td>\n",
       "      <td>21</td>\n",
       "      <td>12</td>\n",
       "      <td>31</td>\n",
       "      <td>2018</td>\n",
       "      <td>0</td>\n",
       "      <td>0</td>\n",
       "      <td>0</td>\n",
       "      <td>12</td>\n",
       "      <td>10</td>\n",
       "      <td>138</td>\n",
       "      <td>18</td>\n",
       "      <td>69</td>\n",
       "      <td>79</td>\n",
       "      <td>10</td>\n",
       "    </tr>\n",
       "    <tr>\n",
       "      <th>3502</th>\n",
       "      <td>3502</td>\n",
       "      <td>22</td>\n",
       "      <td>12</td>\n",
       "      <td>31</td>\n",
       "      <td>2018</td>\n",
       "      <td>0</td>\n",
       "      <td>0</td>\n",
       "      <td>0</td>\n",
       "      <td>12</td>\n",
       "      <td>10</td>\n",
       "      <td>138</td>\n",
       "      <td>18</td>\n",
       "      <td>69</td>\n",
       "      <td>79</td>\n",
       "      <td>10</td>\n",
       "    </tr>\n",
       "    <tr>\n",
       "      <th>3503</th>\n",
       "      <td>3503</td>\n",
       "      <td>23</td>\n",
       "      <td>12</td>\n",
       "      <td>31</td>\n",
       "      <td>2018</td>\n",
       "      <td>0</td>\n",
       "      <td>0</td>\n",
       "      <td>0</td>\n",
       "      <td>12</td>\n",
       "      <td>10</td>\n",
       "      <td>138</td>\n",
       "      <td>18</td>\n",
       "      <td>69</td>\n",
       "      <td>79</td>\n",
       "      <td>10</td>\n",
       "    </tr>\n",
       "  </tbody>\n",
       "</table>\n",
       "<p>3504 rows × 15 columns</p>\n",
       "</div>"
      ],
      "text/plain": [
       "        id  hour  month  day  ...  windspeedKmph  humidity  cloudcover  WindChillC\n",
       "0        0     2      1    1  ...             12        63          23          18\n",
       "1        1     5      1    1  ...             12        63          23          18\n",
       "2        2     7      1    1  ...             12        63          23          18\n",
       "3        3     8      1    1  ...             12        63          23          18\n",
       "4        4    10      1    1  ...             12        63          23          18\n",
       "...    ...   ...    ...  ...  ...            ...       ...         ...         ...\n",
       "3499  3499    17     12   31  ...             18        69          79          10\n",
       "3500  3500    19     12   31  ...             18        69          79          10\n",
       "3501  3501    21     12   31  ...             18        69          79          10\n",
       "3502  3502    22     12   31  ...             18        69          79          10\n",
       "3503  3503    23     12   31  ...             18        69          79          10\n",
       "\n",
       "[3504 rows x 15 columns]"
      ]
     },
     "execution_count": 30,
     "metadata": {
      "tags": []
     },
     "output_type": "execute_result"
    }
   ],
   "source": [
    "# read data\n",
    "all_data = pd.read_csv(\"/content/drive/My Drive/5001_kaggle/train_cleaned_data7.csv\")\n",
    "sub_data = pd.read_csv(\"/content/drive/My Drive/5001_kaggle/test_cleaned_data7.csv\")\n",
    "sub_form = pd.read_csv(\"/content/drive/My Drive/5001_kaggle/sampleSubmission.csv\")\n",
    "sub_data"
   ]
  },
  {
   "cell_type": "code",
   "execution_count": 31,
   "metadata": {
    "executionInfo": {
     "elapsed": 1091,
     "status": "ok",
     "timestamp": 1607146706459,
     "user": {
      "displayName": "Xuxuxu Shh",
      "photoUrl": "",
      "userId": "06260925340065532759"
     },
     "user_tz": -480
    },
    "id": "qBnHWKgsvNiJ"
   },
   "outputs": [],
   "source": [
    "# choose features\n",
    "X=all_data[['holiday','hour','month','day','year','weekday','tempC','visibility','winddirDegree','windspeedKmph','humidity','cloudcover','WindChillC']]\n",
    "x=sub_data[['holiday','hour','month','day','year','weekday','tempC','visibility','winddirDegree','windspeedKmph','humidity','cloudcover','WindChillC']]\n",
    "y=all_data[['speed']]"
   ]
  },
  {
   "cell_type": "code",
   "execution_count": 32,
   "metadata": {
    "colab": {
     "base_uri": "https://localhost:8080/"
    },
    "executionInfo": {
     "elapsed": 1002,
     "status": "ok",
     "timestamp": 1607146713591,
     "user": {
      "displayName": "Xuxuxu Shh",
      "photoUrl": "",
      "userId": "06260925340065532759"
     },
     "user_tz": -480
    },
    "id": "vMBMT99Tq_le",
    "outputId": "9f6e324c-59aa-43d8-85ee-8a31634d214d"
   },
   "outputs": [
    {
     "name": "stdout",
     "output_type": "stream",
     "text": [
      "13865\n",
      "141\n"
     ]
    }
   ],
   "source": [
    "# split our train data , we only set test_size=0.01 in last submit.\n",
    "X_train, X_test, y_train, y_test = train_test_split(X, y, test_size=0.01, random_state=1)\n",
    "print(len(X_train))\n",
    "print(len(X_test))"
   ]
  },
  {
   "cell_type": "markdown",
   "metadata": {
    "id": "slz7ayKInfog"
   },
   "source": [
    "## XGBoost Finetunning\n",
    "\n",
    "- Best Parameters:\n",
    "    - n_estimators = 700\n",
    "    - max_depth = 4\n",
    "    - min_child_weight = 1\n",
    "    - gamma = 0.6\n",
    "    - 'colsample_bytree': 0.6\n",
    "    - 'subsample': 0.9\n",
    "    - 'reg_alpha': 3\n",
    "    - 'reg_lambda':3\n",
    "    - learningrate : 0.1"
   ]
  },
  {
   "cell_type": "code",
   "execution_count": 84,
   "metadata": {
    "colab": {
     "base_uri": "https://localhost:8080/"
    },
    "executionInfo": {
     "elapsed": 11666,
     "status": "ok",
     "timestamp": 1607150583601,
     "user": {
      "displayName": "Xuxuxu Shh",
      "photoUrl": "",
      "userId": "06260925340065532759"
     },
     "user_tz": -480
    },
    "id": "JoJWeksHnlcq",
    "outputId": "5ffcd41d-4ca3-44e3-e18b-0b79223fa813"
   },
   "outputs": [
    {
     "name": "stdout",
     "output_type": "stream",
     "text": [
      "[06:42:52] WARNING: /workspace/src/objective/regression_obj.cu:152: reg:linear is now deprecated in favor of reg:squarederror.\n"
     ]
    },
    {
     "data": {
      "text/plain": [
       "XGBRegressor(base_score=0.7, booster='gbtree', colsample_bylevel=1,\n",
       "             colsample_bynode=1, colsample_bytree=1, gamma=0.85,\n",
       "             importance_type='gain', learning_rate=0.08, max_delta_step=0,\n",
       "             max_depth=6, min_child_weight=1, missing=None, n_estimators=600,\n",
       "             n_jobs=1, nthread=None, objective='reg:linear', random_state=0,\n",
       "             reg_alpha=0, reg_lambda=1, scale_pos_weight=1, seed=None,\n",
       "             silent=None, subsample=0.7, verbosity=1)"
      ]
     },
     "execution_count": 84,
     "metadata": {
      "tags": []
     },
     "output_type": "execute_result"
    }
   ],
   "source": [
    "#model = xgb.XGBRegressor(learning_rate=0.08, n_estimators=330, max_depth=6, min_child_weight=7, seed=0,\n",
    "                             #subsample=0.8, colsample_bytree=0.85, gamma=0.8, reg_alpha=13, reg_lambda=3, base_score=0.7)\n",
    "model = xgb.XGBRegressor(learning_rate=0.08, n_estimators=600, max_depth=6,\n",
    "                             subsample=0.7,base_score=0.7,gamma=0.85)\n",
    "model.fit(X_train, y_train)"
   ]
  },
  {
   "cell_type": "code",
   "execution_count": null,
   "metadata": {
    "colab": {
     "base_uri": "https://localhost:8080/"
    },
    "executionInfo": {
     "elapsed": 601016,
     "status": "ok",
     "timestamp": 1604324753424,
     "user": {
      "displayName": "Xuxuxu Shh",
      "photoUrl": "",
      "userId": "06260925340065532759"
     },
     "user_tz": -480
    },
    "id": "UnfZO2Ch91w6",
    "outputId": "5858806c-6723-4910-e6a6-a2564603daa4"
   },
   "outputs": [
    {
     "name": "stdout",
     "output_type": "stream",
     "text": [
      "Fitting 5 folds for each of 48 candidates, totalling 240 fits\n"
     ]
    },
    {
     "name": "stderr",
     "output_type": "stream",
     "text": [
      "[Parallel(n_jobs=4)]: Using backend LokyBackend with 4 concurrent workers.\n",
      "[Parallel(n_jobs=4)]: Done  42 tasks      | elapsed:  3.1min\n",
      "[Parallel(n_jobs=4)]: Done 192 tasks      | elapsed: 22.0min\n",
      "[Parallel(n_jobs=4)]: Done 240 out of 240 | elapsed: 31.0min finished\n"
     ]
    },
    {
     "name": "stdout",
     "output_type": "stream",
     "text": [
      "[13:45:43] WARNING: /workspace/src/objective/regression_obj.cu:152: reg:linear is now deprecated in favor of reg:squarederror.\n",
      "参数的最佳取值：{'max_depth': 4, 'min_child_weight': 1}\n",
      "最佳模型得分:0.9029020398853819\n"
     ]
    }
   ],
   "source": [
    "cv_params = {'max_depth': [3, 4, 5, 6, 7, 8, 9, 10], 'min_child_weight': [1, 2, 3, 4, 5, 6]}\n",
    "other_params = {'learning_rate': 0.1, 'n_estimators': 700, 'max_depth': 5, 'min_child_weight': 1, 'seed': 0,\n",
    "          'subsample': 0.8, 'colsample_bytree': 0.8, 'gamma': 0, 'reg_alpha': 0, 'reg_lambda': 1}\n",
    "\n",
    "\n",
    "model = xgb.XGBRegressor(**other_params)\n",
    "optimized_GBM = GridSearchCV(estimator=model, param_grid=cv_params, scoring='r2', cv=5, verbose=1, n_jobs=4)\n",
    "optimized_GBM.fit(X_train, y_train)\n",
    "#evalute_result = optimized_GBM.grid_scores_\n",
    "#print('每轮迭代运行结果:{0}'.format(evalute_result))\n",
    "print('参数的最佳取值：{0}'.format(optimized_GBM.best_params_))\n",
    "print('最佳模型得分:{0}'.format(optimized_GBM.best_score_))"
   ]
  },
  {
   "cell_type": "code",
   "execution_count": 85,
   "metadata": {
    "colab": {
     "base_uri": "https://localhost:8080/"
    },
    "executionInfo": {
     "elapsed": 1103,
     "status": "ok",
     "timestamp": 1607150589624,
     "user": {
      "displayName": "Xuxuxu Shh",
      "photoUrl": "",
      "userId": "06260925340065532759"
     },
     "user_tz": -480
    },
    "id": "KbMLoL34pqAr",
    "outputId": "b877156b-ef02-494a-f9cf-f035c2b303d5"
   },
   "outputs": [
    {
     "name": "stdout",
     "output_type": "stream",
     "text": [
      "MSE: 7.922532365631455\n",
      "RMSE: 2.814699338407471\n"
     ]
    }
   ],
   "source": [
    "y_pred = model.predict(X_test)\n",
    "MSE = metrics.mean_squared_error(y_test, y_pred)\n",
    "RMSE = np.sqrt(metrics.mean_squared_error(y_test, y_pred))\n",
    "\n",
    "print('MSE:',MSE)\n",
    "print('RMSE:',RMSE)"
   ]
  },
  {
   "cell_type": "markdown",
   "metadata": {
    "id": "ewr_a1njDn-E"
   },
   "source": [
    "generate the final submit csv file "
   ]
  },
  {
   "cell_type": "code",
   "execution_count": 77,
   "metadata": {
    "colab": {
     "base_uri": "https://localhost:8080/"
    },
    "executionInfo": {
     "elapsed": 990,
     "status": "ok",
     "timestamp": 1607149223738,
     "user": {
      "displayName": "Xuxuxu Shh",
      "photoUrl": "",
      "userId": "06260925340065532759"
     },
     "user_tz": -480
    },
    "id": "40IrwKorABjp",
    "outputId": "b3fd4f15-e6cb-46ca-aab0-fc959879eea0"
   },
   "outputs": [
    {
     "name": "stdout",
     "output_type": "stream",
     "text": [
      "              0\n",
      "0     48.220631\n",
      "1     48.280731\n",
      "2     39.437141\n",
      "3     30.592541\n",
      "4     39.120834\n",
      "...         ...\n",
      "3499  12.087507\n",
      "3500  24.505507\n",
      "3501  48.373161\n",
      "3502  41.343384\n",
      "3503  44.407139\n",
      "\n",
      "[3504 rows x 1 columns]\n"
     ]
    }
   ],
   "source": [
    "#index=[0,2]\n",
    "#sub_features = sub_data.drop(sub_data.columns[index], axis=1)\n",
    "#sub_features\n",
    "sub_speed = model.predict(x)\n",
    "sub_speed = pd.DataFrame(sub_speed)\n",
    "print(sub_speed)"
   ]
  },
  {
   "cell_type": "code",
   "execution_count": 78,
   "metadata": {
    "colab": {
     "base_uri": "https://localhost:8080/"
    },
    "executionInfo": {
     "elapsed": 995,
     "status": "ok",
     "timestamp": 1607149226990,
     "user": {
      "displayName": "Xuxuxu Shh",
      "photoUrl": "",
      "userId": "06260925340065532759"
     },
     "user_tz": -480
    },
    "id": "HKVfuR5zEbb8",
    "outputId": "d6476637-5195-4ffb-da52-8601facc3688"
   },
   "outputs": [
    {
     "name": "stdout",
     "output_type": "stream",
     "text": [
      "        id      speed\n",
      "0        0  48.220631\n",
      "1        1  48.280731\n",
      "2        2  39.437141\n",
      "3        3  30.592541\n",
      "4        4  39.120834\n",
      "...    ...        ...\n",
      "3499  3499  12.087507\n",
      "3500  3500  24.505507\n",
      "3501  3501  48.373161\n",
      "3502  3502  41.343384\n",
      "3503  3503  44.407139\n",
      "\n",
      "[3504 rows x 2 columns]\n"
     ]
    }
   ],
   "source": [
    "sub_form[\"speed\"] = sub_speed\n",
    "print(sub_form)"
   ]
  },
  {
   "cell_type": "code",
   "execution_count": 79,
   "metadata": {
    "executionInfo": {
     "elapsed": 1033,
     "status": "ok",
     "timestamp": 1607149239643,
     "user": {
      "displayName": "Xuxuxu Shh",
      "photoUrl": "",
      "userId": "06260925340065532759"
     },
     "user_tz": -480
    },
    "id": "F29oUmm0FFrw"
   },
   "outputs": [],
   "source": [
    "sub_form.to_csv(\"/content/drive/My Drive/5001_kaggle/xgboost_submit_4.csv\", index=False)"
   ]
  }
 ],
 "metadata": {
  "colab": {
   "authorship_tag": "ABX9TyPs1J7jEJhZk9r7DHPQv49v",
   "mount_file_id": "1T0tmbdBuCedG5AitGwAwIDXjcZCS5y5O",
   "name": "model_train.ipynb",
   "provenance": []
  },
  "kernelspec": {
   "display_name": "Python 3",
   "language": "python",
   "name": "python3"
  },
  "language_info": {
   "codemirror_mode": {
    "name": "ipython",
    "version": 3
   },
   "file_extension": ".py",
   "mimetype": "text/x-python",
   "name": "python",
   "nbconvert_exporter": "python",
   "pygments_lexer": "ipython3",
   "version": "3.7.9"
  },
  "toc": {
   "base_numbering": 1,
   "nav_menu": {},
   "number_sections": true,
   "sideBar": true,
   "skip_h1_title": false,
   "title_cell": "Table of Contents",
   "title_sidebar": "Contents",
   "toc_cell": false,
   "toc_position": {},
   "toc_section_display": true,
   "toc_window_display": false
  },
  "varInspector": {
   "cols": {
    "lenName": 16,
    "lenType": 16,
    "lenVar": 40
   },
   "kernels_config": {
    "python": {
     "delete_cmd_postfix": "",
     "delete_cmd_prefix": "del ",
     "library": "var_list.py",
     "varRefreshCmd": "print(var_dic_list())"
    },
    "r": {
     "delete_cmd_postfix": ") ",
     "delete_cmd_prefix": "rm(",
     "library": "var_list.r",
     "varRefreshCmd": "cat(var_dic_list()) "
    }
   },
   "types_to_exclude": [
    "module",
    "function",
    "builtin_function_or_method",
    "instance",
    "_Feature"
   ],
   "window_display": false
  }
 },
 "nbformat": 4,
 "nbformat_minor": 1
}
